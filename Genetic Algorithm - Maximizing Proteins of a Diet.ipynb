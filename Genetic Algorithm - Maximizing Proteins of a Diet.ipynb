{
 "cells": [
  {
   "cell_type": "code",
   "execution_count": 258,
   "metadata": {},
   "outputs": [],
   "source": [
    "import pandas as pd\n",
    "import numpy as np\n",
    "import matplotlib.pyplot as plt\n",
    "from scipy.spatial import distance"
   ]
  },
  {
   "cell_type": "code",
   "execution_count": 240,
   "metadata": {},
   "outputs": [],
   "source": [
    "df = pd.read_excel('proteins.xlsx')"
   ]
  },
  {
   "cell_type": "code",
   "execution_count": 241,
   "metadata": {},
   "outputs": [
    {
     "data": {
      "text/html": [
       "<div>\n",
       "<style scoped>\n",
       "    .dataframe tbody tr th:only-of-type {\n",
       "        vertical-align: middle;\n",
       "    }\n",
       "\n",
       "    .dataframe tbody tr th {\n",
       "        vertical-align: top;\n",
       "    }\n",
       "\n",
       "    .dataframe thead th {\n",
       "        text-align: right;\n",
       "    }\n",
       "</style>\n",
       "<table border=\"1\" class=\"dataframe\">\n",
       "  <thead>\n",
       "    <tr style=\"text-align: right;\">\n",
       "      <th></th>\n",
       "      <th>meals</th>\n",
       "      <th>proteins</th>\n",
       "      <th>calories</th>\n",
       "    </tr>\n",
       "  </thead>\n",
       "  <tbody>\n",
       "    <tr>\n",
       "      <th>0</th>\n",
       "      <td>chicken</td>\n",
       "      <td>32.8</td>\n",
       "      <td>148</td>\n",
       "    </tr>\n",
       "    <tr>\n",
       "      <th>1</th>\n",
       "      <td>beef</td>\n",
       "      <td>26.4</td>\n",
       "      <td>163</td>\n",
       "    </tr>\n",
       "    <tr>\n",
       "      <th>2</th>\n",
       "      <td>cheese</td>\n",
       "      <td>26.0</td>\n",
       "      <td>316</td>\n",
       "    </tr>\n",
       "    <tr>\n",
       "      <th>3</th>\n",
       "      <td>fish</td>\n",
       "      <td>19.2</td>\n",
       "      <td>109</td>\n",
       "    </tr>\n",
       "    <tr>\n",
       "      <th>4</th>\n",
       "      <td>egg</td>\n",
       "      <td>13.0</td>\n",
       "      <td>149</td>\n",
       "    </tr>\n",
       "  </tbody>\n",
       "</table>\n",
       "</div>"
      ],
      "text/plain": [
       "     meals  proteins  calories\n",
       "0  chicken      32.8       148\n",
       "1     beef      26.4       163\n",
       "2   cheese      26.0       316\n",
       "3     fish      19.2       109\n",
       "4      egg      13.0       149"
      ]
     },
     "execution_count": 241,
     "metadata": {},
     "output_type": "execute_result"
    }
   ],
   "source": [
    "# first we load the xlsx file with the information of the types of meals, proteins and calories.\n",
    "df.head()"
   ]
  },
  {
   "cell_type": "code",
   "execution_count": 242,
   "metadata": {},
   "outputs": [
    {
     "data": {
      "text/plain": [
       "(25, 3)"
      ]
     },
     "execution_count": 242,
     "metadata": {},
     "output_type": "execute_result"
    }
   ],
   "source": [
    "df.shape"
   ]
  },
  {
   "cell_type": "code",
   "execution_count": 243,
   "metadata": {},
   "outputs": [],
   "source": [
    "# restrictions of the population\n",
    "weight = 90\n",
    "max_cal = 33*weight # maximum amount of daily calories per individual\n",
    "max_pro = 2.5*weight # maximum amount of daily proteins per individual"
   ]
  },
  {
   "cell_type": "code",
   "execution_count": 244,
   "metadata": {},
   "outputs": [],
   "source": [
    "cromos = list()  # valid chromosomes given the setted restrictions    \n",
    "while len(cromos)<10:\n",
    "    j = list(np.random.choice(2,25))  # random creation of the population\n",
    "    if sum(j*df.proteins) < max_pro and sum(j*df.calories) < max_cal:\n",
    "        cromos.append(j)"
   ]
  },
  {
   "cell_type": "code",
   "execution_count": 245,
   "metadata": {},
   "outputs": [
    {
     "data": {
      "text/plain": [
       "[[1, 0, 0, 0, 1, 0, 1, 1, 1, 0, 0, 1, 1, 0, 1, 1, 0, 0, 1, 0, 1, 0, 0, 1, 1],\n",
       " [1, 1, 0, 1, 1, 1, 1, 0, 1, 1, 0, 1, 1, 1, 1, 0, 0, 0, 1, 1, 0, 1, 1, 1, 0],\n",
       " [0, 1, 0, 0, 1, 0, 0, 0, 0, 1, 1, 1, 1, 0, 1, 0, 0, 1, 0, 0, 0, 1, 0, 1, 0],\n",
       " [0, 0, 1, 1, 0, 0, 1, 1, 1, 1, 1, 1, 0, 1, 1, 0, 1, 0, 1, 1, 0, 0, 1, 0, 1],\n",
       " [1, 1, 0, 1, 1, 1, 1, 1, 0, 0, 0, 1, 0, 0, 0, 0, 1, 1, 0, 1, 1, 0, 1, 0, 1],\n",
       " [1, 1, 0, 0, 1, 1, 0, 0, 1, 0, 1, 1, 1, 1, 0, 1, 0, 1, 1, 0, 0, 0, 1, 1, 0],\n",
       " [0, 1, 0, 1, 1, 0, 0, 1, 0, 0, 0, 1, 1, 1, 0, 0, 0, 1, 0, 0, 1, 1, 1, 0, 0],\n",
       " [1, 1, 0, 0, 0, 0, 1, 1, 1, 1, 0, 0, 0, 0, 0, 1, 0, 1, 0, 0, 0, 1, 1, 0, 1],\n",
       " [1, 0, 1, 0, 0, 1, 0, 1, 0, 0, 1, 1, 0, 0, 0, 0, 0, 1, 0, 1, 1, 1, 1, 0, 0],\n",
       " [0, 0, 1, 0, 1, 0, 0, 1, 0, 1, 0, 1, 1, 1, 1, 1, 0, 0, 1, 0, 0, 0, 1, 0, 1]]"
      ]
     },
     "execution_count": 245,
     "metadata": {},
     "output_type": "execute_result"
    }
   ],
   "source": [
    "# first set of individuals of the population\n",
    "cromos"
   ]
  },
  {
   "cell_type": "code",
   "execution_count": 246,
   "metadata": {},
   "outputs": [],
   "source": [
    "# fit function to calculate the fitness of each individual of the population\n",
    "def fitness(cromos): \n",
    "    fits = list()\n",
    "    for i in cromos:\n",
    "        fits.append(sum(i*df.proteins))\n",
    "    return fits        "
   ]
  },
  {
   "cell_type": "code",
   "execution_count": 247,
   "metadata": {},
   "outputs": [
    {
     "data": {
      "text/plain": [
       "[131.89999999999998,\n",
       " 181.09999999999997,\n",
       " 90.56,\n",
       " 132.4,\n",
       " 176.25999999999996,\n",
       " 157.25999999999996,\n",
       " 124.96,\n",
       " 123.06,\n",
       " 146.36,\n",
       " 84.1]"
      ]
     },
     "execution_count": 247,
     "metadata": {},
     "output_type": "execute_result"
    }
   ],
   "source": [
    "# fit of each chromosome of the first population\n",
    "fitness(cromos)"
   ]
  },
  {
   "cell_type": "code",
   "execution_count": 248,
   "metadata": {},
   "outputs": [],
   "source": [
    "# fuction to create the probability pie of selecting each chromosome given its fit\n",
    "def proba(cromos):\n",
    "    proba = list()\n",
    "    for i in cromos:\n",
    "        proba.append(2*np.pi*sum(i*df.proteins)/sum([sum(j*df.proteins) for j in cromos])) # proportion of fitness over the total \n",
    "    proba = np.asarray(proba)\n",
    "    proba = proba.cumsum()\n",
    "    return proba"
   ]
  },
  {
   "cell_type": "code",
   "execution_count": 249,
   "metadata": {},
   "outputs": [],
   "source": [
    "# function of roulette wheel selection of parents\n",
    "def proge(cromos):\n",
    "    parents = list()\n",
    "    while len(parents)<2: # seleccionamos 2 padres, sin que sean iguales\n",
    "        k=0\n",
    "        flecha = np.random.random()*2*np.pi\n",
    "        for j in proba(cromos):\n",
    "            if flecha < j and k<1:\n",
    "                padre = cromos[list(proba(cromos)).index(j)]\n",
    "                if len(parents)==0:\n",
    "                        parents.append(padre)\n",
    "                        k+=1\n",
    "                elif len(parents)==1:\n",
    "                    if padre!=parents[0]:\n",
    "                        parents.append(padre)\n",
    "                        k+=1\n",
    "                    else:\n",
    "                        k+=1\n",
    "                else:\n",
    "                    k+=1\n",
    "    return parents"
   ]
  },
  {
   "cell_type": "code",
   "execution_count": 250,
   "metadata": {},
   "outputs": [],
   "source": [
    "# function to create two new individuals by binary crossover of two previously selected parents\n",
    "def cross(parent1,parent2):\n",
    "    childs = list()\n",
    "    while len(childs)<2:\n",
    "        corte = np.random.randint(len(parents[0]))\n",
    "        child1 = parent1[:corte] + parent2[corte:]\n",
    "        child2 = parent2[:corte] + parent1[corte:]\n",
    "        if (sum(child1*df.proteins) < max_pro and sum(child1*df.calories) < max_cal) and (sum(child2*df.proteins) < max_pro and sum(child2*df.calories) < max_cal):\n",
    "            childs.append(child1)\n",
    "            childs.append(child2)\n",
    "    return childs"
   ]
  },
  {
   "cell_type": "code",
   "execution_count": 251,
   "metadata": {},
   "outputs": [],
   "source": [
    "# function to mutate the new born childs using random SWAP of two genes, setting a probability of a child being mutated of 10%\n",
    "\n",
    "def mutant(child):\n",
    "    i1 = np.random.randint(25)\n",
    "    i2 = np.random.randint(25)\n",
    "    value1 = child[i1]\n",
    "    value2 = child[i2]\n",
    "    child[i1] = value2\n",
    "    child[i2] = value1\n",
    "    if sum(child*df.proteins) < max_pro and sum(child*df.calories) < max_cal and np.random.random()<0.10:\n",
    "        return child        \n",
    "    else:\n",
    "        value1 = child[i1]\n",
    "        value2 = child[i2]\n",
    "        child[i1] = value2\n",
    "        child[i2] = value1\n",
    "        return child"
   ]
  },
  {
   "cell_type": "code",
   "execution_count": 252,
   "metadata": {},
   "outputs": [],
   "source": [
    "# function to replace two individuals of the original population by the two childs created, taking into account its genetic similarity (euclidian distance og chromosomes) \n",
    "def replace(childs):    \n",
    "    for i in childs: # deleting two individuals \n",
    "        dist = list()\n",
    "        for j in cromos:\n",
    "            dist.append(distance.euclidean(j,i))\n",
    "        cromos.pop(np.asarray(dist).argmin())\n",
    "    for i in childs:\n",
    "        cromos.append(i)        \n",
    "    return cromos"
   ]
  },
  {
   "cell_type": "code",
   "execution_count": 253,
   "metadata": {},
   "outputs": [],
   "source": [
    "# function of the set of meals that maximize the amount of protein\n",
    "# given the restrictions of maximum amount of proteins and calories an athlete can consume per day\n",
    "def meal(crom):\n",
    "    meals = list()\n",
    "    for i in df.meals:\n",
    "        for c in crom:\n",
    "            if c==1:\n",
    "                meals.append(i)\n",
    "    return set(meals)"
   ]
  },
  {
   "cell_type": "code",
   "execution_count": 254,
   "metadata": {},
   "outputs": [],
   "source": [
    "# function of the amount of calories of the best set of meals\n",
    "def calories(crom):\n",
    "    return sum(crom*df.calories)"
   ]
  },
  {
   "cell_type": "code",
   "execution_count": 255,
   "metadata": {},
   "outputs": [
    {
     "name": "stdout",
     "output_type": "stream",
     "text": [
      "Iteration Nr.:  154\n",
      "Max. Proteins:  215.50\n",
      "Calories:  2925.00\n",
      "Chromosome:  [1, 1, 1, 1, 1, 1, 0, 1, 1, 1, 1, 1, 0, 0, 0, 1, 0, 0, 0, 1, 1, 1, 1, 0, 1]\n",
      "Best Diet:  {'kefir', 'almonds', 'watermelon', 'beans', 'orange', 'potatoe', 'peanut', 'pistacchio', 'rice', 'beef', 'egg', 'fish', 'carrot', 'apple', 'chicken', 'yogurt', 'walnuts', 'banana', 'lentils', 'chickpea', 'lettuce', 'tomatoe', 'cheese', 'tofu', 'milk'}\n"
     ]
    }
   ],
   "source": [
    "best_fits = list()\n",
    "cromis = list()\n",
    "for i in range(1000):\n",
    "    fits = fitness(cromos)\n",
    "    best_fits.append(max(fits))\n",
    "    cromis.append(cromos[fits.index(max(fits))])\n",
    "    parents = proge(cromos)\n",
    "    parent1 = parents[0]\n",
    "    parent2 = parents[1]\n",
    "    childs = cross(parent1,parent2)\n",
    "    child1 = childs[0]\n",
    "    child2 = childs[1]\n",
    "    new_childs=list()\n",
    "    new_childs.append(mutant(child1))\n",
    "    new_childs.append(mutant(child2))\n",
    "    cromos = replace(new_childs)\n",
    "best_fit = (max(best_fits))\n",
    "crom = cromis[best_fits.index(best_fit)]\n",
    "print('Iteration Nr.: ',best_fits.index(best_fit))\n",
    "print('Max. Proteins: ', \"{:.2f}\".format(best_fit))\n",
    "print('Calories: ',\"{:.2f}\".format(calories(crom)))\n",
    "print('Chromosome: ', crom)  \n",
    "print('Best Diet: ',meal(crom))"
   ]
  },
  {
   "cell_type": "code",
   "execution_count": 256,
   "metadata": {},
   "outputs": [
    {
     "data": {
      "text/plain": [
       "[<matplotlib.lines.Line2D at 0x2951ed26370>]"
      ]
     },
     "execution_count": 256,
     "metadata": {},
     "output_type": "execute_result"
    },
    {
     "data": {
      "image/png": "[encoded data removed]",
      "text/plain": [
       "<Figure size 720x432 with 1 Axes>"
      ]
     },
     "metadata": {
      "needs_background": "light"
     },
     "output_type": "display_data"
    }
   ],
   "source": [
    "plt.figure(figsize=(10,6))\n",
    "plt.xlabel('Iterations')\n",
    "plt.ylabel('Proteins')\n",
    "plt.title('Proteins per Diet')\n",
    "plt.plot(best_fits) # graphic with the best fits for each iteration."
   ]
  },
  {
   "cell_type": "code",
   "execution_count": null,
   "metadata": {},
   "outputs": [],
   "source": []
  }
 ],
 "metadata": {
  "kernelspec": {
   "display_name": "Python 3",
   "language": "python",
   "name": "python3"
  },
  "language_info": {
   "codemirror_mode": {
    "name": "ipython",
    "version": 3
   },
   "file_extension": ".py",
   "mimetype": "text/x-python",
   "name": "python",
   "nbconvert_exporter": "python",
   "pygments_lexer": "ipython3",
   "version": "3.8.5"
  }
 },
 "nbformat": 4,
 "nbformat_minor": 4
}
